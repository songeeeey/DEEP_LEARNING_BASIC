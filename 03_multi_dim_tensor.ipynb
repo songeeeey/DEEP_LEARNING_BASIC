{
 "cells": [
  {
   "cell_type": "markdown",
   "id": "6e7a4493",
   "metadata": {},
   "source": [
    "# 다차원 텐서 (다차원 배열)"
   ]
  },
  {
   "cell_type": "code",
   "execution_count": 1,
   "id": "70e1a5df",
   "metadata": {},
   "outputs": [],
   "source": [
    "import numpy as np"
   ]
  },
  {
   "cell_type": "markdown",
   "id": "ef9a089f",
   "metadata": {},
   "source": [
    "### 다차원 배열의 계산 복습"
   ]
  },
  {
   "cell_type": "code",
   "execution_count": 2,
   "id": "140b717d",
   "metadata": {},
   "outputs": [
    {
     "name": "stdout",
     "output_type": "stream",
     "text": [
      "[[ 8 10 12]\n",
      " [14 16 18]]\n",
      "[[2 4 6]\n",
      " [5 7 9]]\n",
      "[[ 50  68]\n",
      " [122 167]]\n"
     ]
    }
   ],
   "source": [
    "A = np.array([[1, 2, 3],\n",
    "             [4, 5, 6]])\n",
    "B = np.array([[7, 8, 9],\n",
    "             [10, 11, 12]])\n",
    "\n",
    "# 단순 합\n",
    "print(A + B)        # (2, 3)\n",
    "\n",
    "# 브로드캐스팅 연산\n",
    "vec = np.array([1, 2, 3])\n",
    "print(A + vec)      # (2, 3)\n",
    "\n",
    "# 점곱(내적) with 전치\n",
    "print(A.dot(B.T))   # (2, 2)"
   ]
  },
  {
   "cell_type": "markdown",
   "id": "ae454853",
   "metadata": {},
   "source": [
    "### 다층 퍼셉트론"
   ]
  },
  {
   "cell_type": "code",
   "execution_count": 3,
   "id": "ec37bc83",
   "metadata": {},
   "outputs": [
    {
     "name": "stdout",
     "output_type": "stream",
     "text": [
      "[[1.57267904e-01 2.71495347e-01 2.69467238e-01 3.01769510e-01]\n",
      " [3.74920585e-03 8.66192744e-01 5.35578847e-03 1.24702261e-01]\n",
      " [3.28773643e-01 6.36027204e-01 3.03249339e-02 4.87421882e-03]\n",
      " [6.31253536e-02 7.12858426e-01 2.19209477e-01 4.80674385e-03]\n",
      " [6.70690927e-02 9.25189934e-01 7.64696039e-03 9.40129922e-05]\n",
      " [6.91086871e-03 7.59301202e-01 2.27484740e-01 6.30318982e-03]]\n"
     ]
    }
   ],
   "source": [
    "# 랜덤으로 입력값 생성\n",
    "X = np.random.randn(6, 10)              # 10개\n",
    "\n",
    "# 은닉층: 10개의 입력 -> 8개의 뉴런\n",
    "W1 = np.random.randn(10, 8) # 가중치    # 10개 입력값, 8개 출력값\n",
    "b1 = np.random.randn(1, 8)  # 편향\n",
    "\n",
    "# 출력층: 8개의 입력 -> 4개의 클래스\n",
    "W2 = np.random.randn(8, 4)              # 8개 입력값, 4개 출력값\n",
    "b2 = np.random.randn(1, 4)\n",
    "\n",
    "# 은닉층 계산 (선형 계산 + tanh 활성화 함수)\n",
    "z1 = np.dot(X, W1) + b1\n",
    "result1 = np.tanh(z1)\n",
    "\n",
    "# 출력층 계산 (선형 계산 + softmax 활성화 함수)\n",
    "z2 = np.dot(result1, W2) + b2\n",
    "exp_z = np.exp(z2 - np.max(z2, axis=1, keepdims=True))  \n",
    "result2 = exp_z / np.sum(exp_z, axis=1, keepdims=True)  # 확률값\n",
    "\n",
    "print(result2)"
   ]
  },
  {
   "cell_type": "markdown",
   "id": "7294974f",
   "metadata": {},
   "source": [
    "### 이미지 데이터 예시"
   ]
  },
  {
   "cell_type": "code",
   "execution_count": 4,
   "id": "478c47eb",
   "metadata": {},
   "outputs": [
    {
     "data": {
      "image/png": "[encoded data removed]",
      "text/plain": [
       "<Figure size 640x480 with 3 Axes>"
      ]
     },
     "metadata": {},
     "output_type": "display_data"
    }
   ],
   "source": [
    "import matplotlib.pyplot as plt\n",
    "\n",
    "# 이미지 생성\n",
    "batch_size = 5\n",
    "channels = 3        # 흑백 = 1, RGB = 3\n",
    "height = 32\n",
    "width = 32\n",
    "\n",
    "# 이미지 배열 4차원 텐서로 만듦\n",
    "images = np.random.rand(batch_size, channels, height, width)\n",
    "# 밝기 값 조절\n",
    "bright_images = np.clip(images + 0.2, 0, 1)\n",
    "# 흑백 명암 정도\n",
    "gray_images = np.mean(images, axis=1)\n",
    "\n",
    "image_for_display = images[0].transpose(1, 2, 0)   \n",
    "bright_images_for_display = bright_images[0].transpose(1, 2, 0)\n",
    "\n",
    "# 그리기\n",
    "plt.subplot(1, 3, 1)\n",
    "plt.imshow(image_for_display)\n",
    "plt.axis(\"off\")\n",
    "\n",
    "plt.subplot(1, 3, 2)\n",
    "plt.imshow(bright_images_for_display)\n",
    "plt.axis('off')\n",
    "\n",
    "plt.subplot(1, 3, 3)\n",
    "plt.imshow(gray_images[0], cmap='gray')\n",
    "plt.axis('off')\n",
    "\n",
    "plt.show()"
   ]
  }
 ],
 "metadata": {
  "kernelspec": {
   "display_name": "ml_env",
   "language": "python",
   "name": "python3"
  },
  "language_info": {
   "codemirror_mode": {
    "name": "ipython",
    "version": 3
   },
   "file_extension": ".py",
   "mimetype": "text/x-python",
   "name": "python",
   "nbconvert_exporter": "python",
   "pygments_lexer": "ipython3",
   "version": "3.12.11"
  }
 },
 "nbformat": 4,
 "nbformat_minor": 5
}
