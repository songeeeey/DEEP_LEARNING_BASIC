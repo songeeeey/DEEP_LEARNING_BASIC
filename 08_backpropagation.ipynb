{
 "cells": [
  {
   "cell_type": "markdown",
   "id": "1ed1d3cb",
   "metadata": {},
   "source": [
    "# 역전파 (Backpropagation)"
   ]
  },
  {
   "cell_type": "markdown",
   "id": "d5a72cc0",
   "metadata": {},
   "source": [
    "### 연쇄법칙"
   ]
  },
  {
   "cell_type": "markdown",
   "id": "1965b4db",
   "metadata": {},
   "source": [
    "- 기본 수식의 역전파 & 연쇄법칙 적용"
   ]
  },
  {
   "cell_type": "code",
   "execution_count": 1,
   "id": "7a3ee55d",
   "metadata": {},
   "outputs": [
    {
     "name": "stdout",
     "output_type": "stream",
     "text": [
      "9.0\n",
      "6.0\n"
     ]
    }
   ],
   "source": [
    "import numpy as np\n",
    "\n",
    "def forward(x):\n",
    "    y = x ** 2\n",
    "    return y\n",
    "\n",
    "def backward(x):\n",
    "    dy_dx = 2 * x\n",
    "    return dy_dx\n",
    "\n",
    "x = 3.0\n",
    "print(forward(x))\n",
    "print(backward(x))"
   ]
  },
  {
   "cell_type": "markdown",
   "id": "ba1015d0",
   "metadata": {},
   "source": [
    "- 다층 신경망에서 연쇄법칙 적용"
   ]
  },
  {
   "cell_type": "code",
   "execution_count": 2,
   "id": "bc9bc0bc",
   "metadata": {},
   "outputs": [
    {
     "name": "stdout",
     "output_type": "stream",
     "text": [
      "18.0\n",
      "12.0\n"
     ]
    }
   ],
   "source": [
    "import numpy as np\n",
    "\n",
    "def forward(x):\n",
    "    y = x ** 2\n",
    "    z = 2 * y\n",
    "    return z\n",
    "\n",
    "def backward(x):\n",
    "    dy_dx = 2 * x\n",
    "    dz_dy = 2\n",
    "    dz_dx = dy_dx * dz_dy\n",
    "    return dz_dx\n",
    "\n",
    "x = 3.0\n",
    "print(forward(x))\n",
    "print(backward(x))"
   ]
  },
  {
   "cell_type": "markdown",
   "id": "433051a0",
   "metadata": {},
   "source": [
    "### 신경망에서의 활용\n",
    "\n",
    "- 단순 신경망 학습"
   ]
  },
  {
   "cell_type": "code",
   "execution_count": 3,
   "id": "ff6d98e2",
   "metadata": {},
   "outputs": [],
   "source": [
    "def sigmoid(x):\n",
    "    return 1 / (1 + np.exp(-x))\n",
    "\n",
    "def sigmoid_d(x):\n",
    "    return sigmoid(x) * (1 - sigmoid(x))"
   ]
  },
  {
   "cell_type": "code",
   "execution_count": 4,
   "id": "9f1e4f5e",
   "metadata": {},
   "outputs": [],
   "source": [
    "X = np.array([0.5, 0.8])\n",
    "y = np.array([1])\n",
    "\n",
    "W = np.array([0.2, 0.4])"
   ]
  },
  {
   "cell_type": "code",
   "execution_count": 5,
   "id": "8525bb4d",
   "metadata": {},
   "outputs": [
    {
     "name": "stdout",
     "output_type": "stream",
     "text": [
      "[0.20474415 0.40759064]\n"
     ]
    }
   ],
   "source": [
    "# 순전파\n",
    "z = np.dot(X, W)\n",
    "r = sigmoid(z)\n",
    "\n",
    "# 오차 계산\n",
    "loss = 0.5 * ((y - r) ** 2)\n",
    "\n",
    "# 역전파 (기울기 계산)\n",
    "delta = (r - y) * sigmoid_d(z)\n",
    "grad_w = delta * X\n",
    "\n",
    "# 가중치 갱신\n",
    "W -= 0.1 * grad_w  # 0.1 == learning_rate\n",
    "\n",
    "print(W)"
   ]
  },
  {
   "cell_type": "markdown",
   "id": "9b277a9e",
   "metadata": {},
   "source": [
    "- 은닉층 추가"
   ]
  },
  {
   "cell_type": "code",
   "execution_count": 6,
   "id": "1dd25922",
   "metadata": {},
   "outputs": [],
   "source": [
    "def relu(x):\n",
    "    return np.maximum(0, x)\n",
    "\n",
    "def relu_d(x):\n",
    "    return np.where(x > 0, 1, 0)"
   ]
  },
  {
   "cell_type": "code",
   "execution_count": 7,
   "id": "76ccc9f7",
   "metadata": {},
   "outputs": [],
   "source": [
    "X = np.array([0.5, 0.8])    # (2,)\n",
    "y = np.array([1])           # (1,)\n",
    "\n",
    "W1 = np.array([[0.2, 0.4], [0.1, 0.3]])     # (2, 2)\n",
    "b1 = np.array([0.1, 0.2])                   # (2,)\n",
    "W2 = np.array([[0.5], [0.6]])               # (2, 1)\n",
    "b2 = np.array([0.3])                        # (1,)"
   ]
  },
  {
   "cell_type": "code",
   "execution_count": 8,
   "id": "8ff003e4",
   "metadata": {},
   "outputs": [
    {
     "name": "stdout",
     "output_type": "stream",
     "text": [
      "[[0.5004928]\n",
      " [0.6011264]]\n",
      "[[0.20044   0.400528 ]\n",
      " [0.100704  0.3008448]]\n"
     ]
    }
   ],
   "source": [
    "# 순전파\n",
    "z1 = np.dot(X, W1) + b1\n",
    "r1 = relu(z1)\n",
    "\n",
    "z2 = np.dot(r1, W2) + b2\n",
    "r2 = relu(z2)\n",
    "\n",
    "# 손실 계산 -> 역전파 (기울기 계산)\n",
    "delta2 = (r2 - y) * relu_d(z2)\n",
    "grad_w2 = np.outer(r1, delta2)\n",
    "\n",
    "delta1 = np.dot(W2, delta2) * relu_d(z1)\n",
    "grad_w1 = np.outer(X, delta1)\n",
    "\n",
    "# 가중치 갱신\n",
    "learning_rate = 0.01\n",
    "W2 -= learning_rate * grad_w2\n",
    "W1 -= learning_rate * grad_w1\n",
    "\n",
    "print(W2)\n",
    "print(W1)"
   ]
  },
  {
   "cell_type": "markdown",
   "id": "66844a9c",
   "metadata": {},
   "source": [
    "### 수치미분과 역전파"
   ]
  },
  {
   "cell_type": "code",
   "execution_count": 9,
   "id": "c2c39982",
   "metadata": {},
   "outputs": [
    {
     "name": "stdout",
     "output_type": "stream",
     "text": [
      "6.000000000039306\n",
      "6.0\n"
     ]
    }
   ],
   "source": [
    "def f(x):\n",
    "    return x ** 2\n",
    "\n",
    "# 수치 미분 중앙차분법\n",
    "def num_d_gradient(f, x):\n",
    "    h = 1e-5\n",
    "    return (f(x + h) - f(x - h)) / (2 * h)\n",
    "\n",
    "def backward_gradient(x):\n",
    "    return 2 * x\n",
    "\n",
    "print(num_d_gradient(f, 3.0))\n",
    "print(backward_gradient(3.0))"
   ]
  },
  {
   "cell_type": "markdown",
   "id": "f21b50de",
   "metadata": {},
   "source": [
    "### 숫자 맞추기 AI"
   ]
  },
  {
   "cell_type": "code",
   "execution_count": 10,
   "id": "301edc85",
   "metadata": {},
   "outputs": [
    {
     "name": "stdout",
     "output_type": "stream",
     "text": [
      "Epoch 100 | 예측값: 99.99729278156966, 손실: 4.524093598522841e-06\n",
      "Epoch 200 | 예측값: 99.99999992809249, 손실: 3.1917839778887124e-15\n",
      "Epoch 300 | 예측값: 99.9999999999981, 손실: 2.2417281224718954e-24\n",
      "Epoch 400 | 예측값: 99.99999999999994, 손실: 1.6155871338926322e-27\n",
      "Epoch 500 | 예측값: 99.99999999999994, 손실: 1.6155871338926322e-27\n",
      "최종 예측값: 99.99999999999994\n"
     ]
    }
   ],
   "source": [
    "target_number = 100\n",
    "guess = np.random.randn()\n",
    "\n",
    "learning_rate = 0.1\n",
    "epochs = 500\n",
    "\n",
    "for i in range(epochs):\n",
    "    # 오차 계산\n",
    "    loss = 0.5 * ((guess - target_number) ** 2)\n",
    "\n",
    "    # 역전파 (기울기 계산)\n",
    "    grad = (guess - target_number)\n",
    "\n",
    "    # 업데이트 (guess 업데이트)\n",
    "    guess -= learning_rate * grad\n",
    "    \n",
    "    # epoch 100마다 예측값과 손실 출력\n",
    "    if (i + 1) % 100 == 0:\n",
    "        print(f\"Epoch {i+1} | 예측값: {guess}, 손실: {loss}\")\n",
    "\n",
    "# 최종 예측값 guess 출력\n",
    "print(f\"최종 예측값: {guess}\")"
   ]
  }
 ],
 "metadata": {
  "kernelspec": {
   "display_name": "torch_env",
   "language": "python",
   "name": "python3"
  },
  "language_info": {
   "codemirror_mode": {
    "name": "ipython",
    "version": 3
   },
   "file_extension": ".py",
   "mimetype": "text/x-python",
   "name": "python",
   "nbconvert_exporter": "python",
   "pygments_lexer": "ipython3",
   "version": "3.12.11"
  }
 },
 "nbformat": 4,
 "nbformat_minor": 5
}
