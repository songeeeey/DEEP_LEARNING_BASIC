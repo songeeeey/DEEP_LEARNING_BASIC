{
 "cells": [
  {
   "cell_type": "markdown",
   "id": "08bcad63",
   "metadata": {},
   "source": [
    "# 과적합 해결"
   ]
  },
  {
   "cell_type": "code",
   "execution_count": 1,
   "id": "796e23ad",
   "metadata": {},
   "outputs": [],
   "source": [
    "import torch\n",
    "import torch.nn as nn\n",
    "import torch.optim as optim\n",
    "from torch.utils.data import DataLoader, random_split   # DataLoader: 주어진 dataset을 미니배치로 묶어줌. random_split: 무작위로 학습, 검증 분리 \n",
    "import torchvision.transforms as transforms             # torchvision: 딥러닝 이미지 task, transforms: 이미지 스케일링, 정규화 처리 변환 등\n",
    "import torchvision.datasets as datasets                 # datasets: 이미지로 구성된 datasets"
   ]
  },
  {
   "cell_type": "markdown",
   "id": "07f20864",
   "metadata": {},
   "source": [
    "### 배치 정규화 적용"
   ]
  },
  {
   "cell_type": "code",
   "execution_count": 2,
   "id": "a994500a",
   "metadata": {},
   "outputs": [],
   "source": [
    "# ToTenser(): 이미지를 pytorch에서 사용할 수 있는 tensor 형태로 변환\n",
    "# Normalize: 평균 0.5, 표준편차 0.5으로 정규화 수행\n",
    "# Compose: 수행할 작업을 순차적으로 할 수 있도록\n",
    "\n",
    "# 데이터셋 로드\n",
    "transform = transforms.Compose([transforms.ToTensor(), transforms.Normalize((0.5), (0.5,))])\n",
    "\n",
    "# MNIST: 대표적인 이미지 데이터 중 하나 (손글씨로 쓴 숫자)\n",
    "# root에 저장\n",
    "dataset = datasets.MNIST(root='./data', train=True, transform=transform, download=True)"
   ]
  },
  {
   "cell_type": "code",
   "execution_count": 3,
   "id": "30e8c8fb",
   "metadata": {},
   "outputs": [],
   "source": [
    "# 학습셋-검증셋 사이즈 지정\n",
    "train_size = int(0.8 * len(dataset))\n",
    "val_size = len(dataset) - train_size\n",
    "\n",
    "# 데이터 분리 및 미니 배치로 로드 가능하도록 DataLoader 생성\n",
    "train_data, val_data = random_split(dataset, [train_size, val_size])\n",
    "train_loader = DataLoader(train_data, batch_size=64, shuffle=True)\n",
    "val_loader = DataLoader(val_data, batch_size=64, shuffle=False)"
   ]
  },
  {
   "cell_type": "code",
   "execution_count": 4,
   "id": "cc6975e9",
   "metadata": {},
   "outputs": [],
   "source": [
    "# 배치 정규화 반영된 간단한 신경망 구조\n",
    "class SimpleNN(nn.Module):\n",
    "    def __init__(self, use_bn=False):   # use_bn: batch Normalization\n",
    "        super(SimpleNN, self).__init__()\n",
    "        self.fc1 = nn.Linear(28 * 28, 128)                              # 완전 연결층\n",
    "        self.bn1 = nn.BatchNorm1d(128) if use_bn else nn.Identity()     # Batch Normalization층    Identity(): 아무것도 안함\n",
    "        self.fc2 = nn.Linear(128, 64)\n",
    "        self.bn2 = nn.BatchNorm1d(64) if use_bn else nn.Identity()  \n",
    "        self.fc3 = nn.Linear(64, 10)                                    # 10차원으로 출력층\n",
    "\n",
    "    def forward(self, x):\n",
    "        x = x.view(x.size(0), -1)                       # (배치 크기, h, w) -> (배치 크기, feature)\n",
    "        x = torch.relu(self.bn1(self.fc1(x)))   \n",
    "        x = torch.relu(self.bn2(self.fc2(x)))\n",
    "        x = self.fc3(x)\n",
    "        return x    # 내부적으로 softmax 처리 해줌"
   ]
  },
  {
   "cell_type": "code",
   "execution_count": 5,
   "id": "f31acd13",
   "metadata": {},
   "outputs": [],
   "source": [
    "def train(model, train_loader, val_loader, epochs=5):\n",
    "    criterion = nn.CrossEntropyLoss()\n",
    "    optimizer = optim.Adam(model.parameters(), lr=0.001)\n",
    "\n",
    "    for epoch in range(epochs):\n",
    "        model.train()\n",
    "        for images, labels in train_loader:             # X: 이미지, y: 어떤 숫자인지\n",
    "            images = images.view(images.size(0), -1)    # 평탄화\n",
    "            optimizer.zero_grad()                       # 기울기 초기화\n",
    "            outputs = model(images)                     # 순전파(모델 호출 -> forward)\n",
    "            loss = criterion(outputs, labels)           # 손실값\n",
    "            loss.backward()                             # 손실값 역전파\n",
    "            optimizer.step()                            # 역전파한 가중치 업데이트\n",
    "\n",
    "        # 검증\n",
    "        model.eval()\n",
    "        val_loss = 0\n",
    "        correct = 0\n",
    "        with torch.no_grad():\n",
    "            for images, labels in val_loader:\n",
    "                images = images.view(images.size(0), -1)\n",
    "                outputs = model(images)\n",
    "                val_loss += criterion(outputs, labels).item()   # 손실값 누산\n",
    "                preds = outputs.argmax(dim=1)                   # 예측값\n",
    "                correct += (preds == labels).sum().item()\n",
    "\n",
    "        print(f'Epoch {epoch+1} | Val Loss: {val_loss/len(val_loader):.4f}, Accuracy: {correct/len(val_data):.4f}')"
   ]
  },
  {
   "cell_type": "code",
   "execution_count": 6,
   "id": "f59b2424",
   "metadata": {},
   "outputs": [
    {
     "name": "stdout",
     "output_type": "stream",
     "text": [
      "배치 정규화 적용 안함\n",
      "Epoch 1 | Val Loss: 0.2752, Accuracy: 0.9194\n",
      "Epoch 2 | Val Loss: 0.2010, Accuracy: 0.9381\n",
      "Epoch 3 | Val Loss: 0.1661, Accuracy: 0.9484\n",
      "Epoch 4 | Val Loss: 0.1482, Accuracy: 0.9546\n",
      "Epoch 5 | Val Loss: 0.1239, Accuracy: 0.9595\n",
      "\n",
      "배치 정규화 적용\n",
      "Epoch 1 | Val Loss: 0.1235, Accuracy: 0.9647\n",
      "Epoch 2 | Val Loss: 0.0993, Accuracy: 0.9698\n",
      "Epoch 3 | Val Loss: 0.0930, Accuracy: 0.9697\n",
      "Epoch 4 | Val Loss: 0.0811, Accuracy: 0.9744\n",
      "Epoch 5 | Val Loss: 0.0781, Accuracy: 0.9760\n"
     ]
    }
   ],
   "source": [
    "print(\"배치 정규화 적용 안함\")\n",
    "model_without_bn = SimpleNN(use_bn=False)\n",
    "train(model_without_bn, train_loader, val_loader)\n",
    "\n",
    "print()\n",
    "print(\"배치 정규화 적용\")\n",
    "model_without_bn = SimpleNN(use_bn=True)\n",
    "train(model_without_bn, train_loader, val_loader)"
   ]
  },
  {
   "cell_type": "markdown",
   "id": "7af96546",
   "metadata": {},
   "source": [
    "- 배치 사이즈별 모델 학습 결과"
   ]
  },
  {
   "cell_type": "code",
   "execution_count": 7,
   "id": "f96939ef",
   "metadata": {},
   "outputs": [
    {
     "name": "stdout",
     "output_type": "stream",
     "text": [
      "batch size: 16\n",
      "Epoch 1 | Val Loss: 0.1176, Accuracy: 0.9638\n",
      "Epoch 2 | Val Loss: 0.1032, Accuracy: 0.9683\n",
      "Epoch 3 | Val Loss: 0.0859, Accuracy: 0.9716\n",
      "Epoch 4 | Val Loss: 0.0942, Accuracy: 0.9709\n",
      "Epoch 5 | Val Loss: 0.0797, Accuracy: 0.9765\n",
      "batch size: 32\n",
      "Epoch 1 | Val Loss: 0.1228, Accuracy: 0.9618\n",
      "Epoch 2 | Val Loss: 0.0983, Accuracy: 0.9688\n",
      "Epoch 3 | Val Loss: 0.0956, Accuracy: 0.9704\n",
      "Epoch 4 | Val Loss: 0.0806, Accuracy: 0.9754\n",
      "Epoch 5 | Val Loss: 0.0742, Accuracy: 0.9779\n",
      "batch size: 128\n",
      "Epoch 1 | Val Loss: 0.1443, Accuracy: 0.9577\n",
      "Epoch 2 | Val Loss: 0.1124, Accuracy: 0.9649\n",
      "Epoch 3 | Val Loss: 0.1012, Accuracy: 0.9667\n",
      "Epoch 4 | Val Loss: 0.0873, Accuracy: 0.9720\n",
      "Epoch 5 | Val Loss: 0.0925, Accuracy: 0.9706\n"
     ]
    }
   ],
   "source": [
    "# 배치 사이즈 잘 판단\n",
    "for batch_size in [16, 32, 128]:\n",
    "    print(f\"batch size: {batch_size}\")\n",
    "    train_loader = DataLoader(train_data, batch_size=batch_size, shuffle=True)\n",
    "    val_loader = DataLoader(val_data, batch_size=batch_size, shuffle=False)\n",
    "    model = SimpleNN(use_bn=True)\n",
    "    train(model, train_loader, val_loader)"
   ]
  },
  {
   "cell_type": "markdown",
   "id": "481d0224",
   "metadata": {},
   "source": [
    "### 드롭아웃 적용"
   ]
  },
  {
   "cell_type": "code",
   "execution_count": 8,
   "id": "f0d7e764",
   "metadata": {},
   "outputs": [],
   "source": [
    "# 드롭아웃 반영된 간단한 신경망\n",
    "class DropoutNN(nn.Module):\n",
    "    def __init__(self, dropout_rate):\n",
    "        super(DropoutNN, self).__init__()\n",
    "        self.fc1 = nn.Linear(28 * 28, 128)          # 128개의 은닉층 노드\n",
    "        self.dropout1 = nn.Dropout(dropout_rate)    # 비활성화. 훈련 상황에서만 동작. 검증, test 예측에서는 X\n",
    "        self.fc2 = nn.Linear(128, 64)\n",
    "        self.dropout2 = nn.Dropout(dropout_rate)\n",
    "        self.fc3 = nn.Linear(64, 10)\n",
    "\n",
    "    def forward(self, x):\n",
    "        x = x.view(x.size(0), -1)\n",
    "        x = torch.relu(self.dropout1(self.fc1(x)))\n",
    "        x = torch.relu(self.dropout2(self.fc2(x)))\n",
    "        x = self.fc3(x)\n",
    "        return x"
   ]
  },
  {
   "cell_type": "code",
   "execution_count": 9,
   "id": "bb7ef5d7",
   "metadata": {},
   "outputs": [
    {
     "name": "stdout",
     "output_type": "stream",
     "text": [
      "Dropout Rate: 0.2\n",
      "Epoch 1 | Val Loss: 0.2508, Accuracy: 0.9229\n",
      "Epoch 2 | Val Loss: 0.1840, Accuracy: 0.9433\n",
      "Epoch 3 | Val Loss: 0.1563, Accuracy: 0.9513\n",
      "Epoch 4 | Val Loss: 0.1428, Accuracy: 0.9571\n",
      "Epoch 5 | Val Loss: 0.1238, Accuracy: 0.9617\n",
      "Dropout Rate: 0.5\n",
      "Epoch 1 | Val Loss: 0.3330, Accuracy: 0.9016\n",
      "Epoch 2 | Val Loss: 0.2898, Accuracy: 0.9153\n",
      "Epoch 3 | Val Loss: 0.2638, Accuracy: 0.9227\n",
      "Epoch 4 | Val Loss: 0.2360, Accuracy: 0.9289\n",
      "Epoch 5 | Val Loss: 0.2286, Accuracy: 0.9312\n",
      "Dropout Rate: 0.8\n",
      "Epoch 1 | Val Loss: 1.5166, Accuracy: 0.6019\n",
      "Epoch 2 | Val Loss: 1.3497, Accuracy: 0.6327\n",
      "Epoch 3 | Val Loss: 1.3517, Accuracy: 0.6422\n",
      "Epoch 4 | Val Loss: 1.2630, Accuracy: 0.6587\n",
      "Epoch 5 | Val Loss: 1.2714, Accuracy: 0.6361\n"
     ]
    }
   ],
   "source": [
    "train_loader = DataLoader(train_data, batch_size=64, shuffle=True)\n",
    "val_loader = DataLoader(val_data, batch_size=64, shuffle=False)\n",
    "\n",
    "# 드롭아웃 비율에 따른 성능 변화\n",
    "for rate in [0.2, 0.5, 0.8]:\n",
    "    print(f\"Dropout Rate: {rate}\")\n",
    "    model = DropoutNN(dropout_rate=rate)\n",
    "    train(model, train_loader, val_loader)\n",
    "\n",
    "# 대부분의 뉴런을 끄면 성능이 떨어짐\n",
    "# 0.5는 성능 괜찮 -> 과대적합 방지"
   ]
  },
  {
   "cell_type": "code",
   "execution_count": 10,
   "id": "24e60bed",
   "metadata": {},
   "outputs": [],
   "source": [
    "# 모델 다시 설정\n",
    "model = DropoutNN(dropout_rate=0.2)"
   ]
  },
  {
   "cell_type": "code",
   "execution_count": 11,
   "id": "9b6ae676",
   "metadata": {},
   "outputs": [
    {
     "name": "stdout",
     "output_type": "stream",
     "text": [
      "True\n"
     ]
    }
   ],
   "source": [
    "# evaluation 모드\n",
    "# 드롭아웃은 학습 시에만 적용됨\n",
    "model.eval()\n",
    "with torch.no_grad():\n",
    "    images, _ = next(iter(val_loader))          # 검증 데이터 배치 단위로 끊기 반복\n",
    "    images = images.view(images.size(0), -1)\n",
    "\n",
    "    out1 = model(images)\n",
    "    out2 = model(images)\n",
    "\n",
    "    print(torch.allclose(out1, out2))           # tensor값이 유사한지\n",
    "    # 드롭아웃이 적용되지 않으므로 매번 같은 출력을 냄"
   ]
  },
  {
   "cell_type": "code",
   "execution_count": 12,
   "id": "01223674",
   "metadata": {},
   "outputs": [
    {
     "name": "stdout",
     "output_type": "stream",
     "text": [
      "False\n"
     ]
    }
   ],
   "source": [
    "# train모드로 변경\n",
    "model.train()\n",
    "\n",
    "out1 = model(images)\n",
    "out2 = model(images)\n",
    "\n",
    "print(torch.allclose(out1, out2))       # --> False 위에서는 True\n",
    "# dropout이 적용 됐다/안됐다의 근거"
   ]
  },
  {
   "cell_type": "markdown",
   "id": "a99d7466",
   "metadata": {},
   "source": [
    "### Learning Rate Scheduler 적용"
   ]
  },
  {
   "cell_type": "code",
   "execution_count": 13,
   "id": "3122b94d",
   "metadata": {},
   "outputs": [],
   "source": [
    "# Learning Rate Scheduler: Learning Rate를 늘리거나 줄이면서 효과적인 학습을 하게 도와줌\n",
    "\n",
    "# 간단한 신경망 구조\n",
    "class RealSimpleNN(nn.Module):\n",
    "    def __init__(self):\n",
    "        super(RealSimpleNN, self).__init__()\n",
    "        self.fc1 = nn.Linear(28 * 28, 128)\n",
    "        self.fc2 = nn.Linear(128, 64)\n",
    "        self.fc3 = nn.Linear(64, 10)\n",
    "\n",
    "    def forward(self, x):\n",
    "        x = x.view(x.size(0), -1)\n",
    "        x = torch.relu(self.fc1(x))\n",
    "        x = torch.relu(self.fc2(x))\n",
    "        x = self.fc3(x)\n",
    "        return x"
   ]
  },
  {
   "cell_type": "code",
   "execution_count": 14,
   "id": "237c5301",
   "metadata": {},
   "outputs": [],
   "source": [
    "def train_lr(model, train_loader, val_loader, optimizer, scheduler, epochs=10):\n",
    "    criterion = nn.CrossEntropyLoss()   # 손실함수 만들기\n",
    "\n",
    "    for epoch in range(epochs):\n",
    "        model.train()\n",
    "        for images, labels in train_loader:             # X: 이미지, y: 어떤 숫자인지\n",
    "            images = images.view(images.size(0), -1)    # 평탄화\n",
    "            optimizer.zero_grad()                       # 기울기 초기화\n",
    "            outputs = model(images)                     # 순전파(모델 호출 -> forward)\n",
    "            loss = criterion(outputs, labels)           # 손실값\n",
    "            loss.backward()                             # 손실값 역전파\n",
    "            optimizer.step()                            # 역전파한 가중치 업데이트\n",
    "\n",
    "        # 검증\n",
    "        model.eval()\n",
    "        val_loss = 0\n",
    "        correct = 0\n",
    "        with torch.no_grad():\n",
    "            for images, labels in val_loader:\n",
    "                images = images.view(images.size(0), -1)\n",
    "                outputs = model(images)\n",
    "                val_loss += criterion(outputs, labels).item()   # 손실값 누산\n",
    "                preds = outputs.argmax(dim=1)                   # 예측값\n",
    "                correct += (preds == labels).sum().item()\n",
    "        \n",
    "        # 학습율 스케쥴러 적용\n",
    "        scheduler.step()\n",
    "        print(f'Epoch {epoch+1} | Val Loss: {val_loss/len(val_loader):.4f}, Accuracy: {correct/len(val_data):.4f}')"
   ]
  },
  {
   "cell_type": "code",
   "execution_count": 15,
   "id": "1ec79c21",
   "metadata": {},
   "outputs": [
    {
     "name": "stdout",
     "output_type": "stream",
     "text": [
      "Epoch 1 | Val Loss: 0.3342, Accuracy: 0.9048\n",
      "Epoch 2 | Val Loss: 0.3114, Accuracy: 0.9127\n",
      "Epoch 3 | Val Loss: 0.2322, Accuracy: 0.9377\n",
      "Epoch 4 | Val Loss: 0.1638, Accuracy: 0.9517\n",
      "Epoch 5 | Val Loss: 0.1612, Accuracy: 0.9543\n",
      "Epoch 6 | Val Loss: 0.1525, Accuracy: 0.9552\n",
      "Epoch 7 | Val Loss: 0.1482, Accuracy: 0.9548\n",
      "Epoch 8 | Val Loss: 0.1469, Accuracy: 0.9561\n",
      "Epoch 9 | Val Loss: 0.1463, Accuracy: 0.9560\n",
      "Epoch 10 | Val Loss: 0.1463, Accuracy: 0.9561\n"
     ]
    }
   ],
   "source": [
    "model = RealSimpleNN()\n",
    "optimizer = optim.Adam(model.parameters(), lr=0.01)\n",
    "scheduler = optim.lr_scheduler.StepLR(optimizer, step_size=3, gamma=0.1)    # step_size=3: epoch 3번마다 학습률 조절, gamma=0.1: lr에 0.1 곱해줌\n",
    "\n",
    "# scheduler 반영해서 train\n",
    "train_lr(model, train_loader, val_loader, optimizer, scheduler)"
   ]
  },
  {
   "cell_type": "markdown",
   "id": "12617c6a",
   "metadata": {},
   "source": [
    "### 조기 종료"
   ]
  },
  {
   "cell_type": "code",
   "execution_count": 16,
   "id": "224765da",
   "metadata": {},
   "outputs": [],
   "source": [
    "def train_es(model, train_loader, val_loader, optimizer, epochs=50, early_stopping=None):\n",
    "    criterion = nn.CrossEntropyLoss()\n",
    "    train_losses = []\n",
    "    val_losses = []\n",
    "\n",
    "    for epoch in range(epochs):\n",
    "        model.train()\n",
    "        train_loss = 0\n",
    "        for images, labels in train_loader:\n",
    "            images = images.view(images.size(0), -1)\n",
    "            optimizer.zero_grad()\n",
    "            outputs = model(images)\n",
    "            loss = criterion(outputs, labels)\n",
    "            loss.backward()\n",
    "            optimizer.step()\n",
    "            train_loss += loss.item()\n",
    "        train_loss /= len(train_loader)\n",
    "        train_losses.append(train_loss)\n",
    "        # --> train 절차\n",
    "\n",
    "        # 검증 모드\n",
    "        model.eval()\n",
    "        val_loss = 0\n",
    "        correct = 0\n",
    "        with torch.no_grad():       # 기울기 계산 하지 않음\n",
    "            for images, labels in val_loader:\n",
    "                images = images.view(images.size(0), -1)\n",
    "                outputs = model(images)\n",
    "                loss = criterion(outputs, labels)\n",
    "                val_loss += loss.item()\n",
    "                preds = outputs.argmax(dim=1)\n",
    "                correct += (preds == labels).sum().item()\n",
    "        val_loss /= len(val_loader)\n",
    "        val_losses.append(val_loss)\n",
    "        accuracy = correct / len(val_data)\n",
    "\n",
    "        print(f'Epoch {epoch+1} | Val Loss: {val_loss:.4f}, Accuracy: {accuracy:.4f}')\n",
    "\n",
    "        # 조기 종료 반영\n",
    "        # 기본적으로 조기 종료 설정, early_stopping(val_loss): __call__\n",
    "        if early_stopping and early_stopping(val_loss):\n",
    "            print(f\"조기종료 epoch {epoch+1}\")      # 5번 이상 참은 상태, 조기 종료\n",
    "            break\n",
    "\n",
    "    return train_losses, val_losses"
   ]
  },
  {
   "cell_type": "code",
   "execution_count": 17,
   "id": "e470c178",
   "metadata": {},
   "outputs": [],
   "source": [
    "# 조기 종료를 위한 클래스(객체)\n",
    "class EarlyStopping:\n",
    "    def __init__(self, patience=5, min_delta=0.001):\n",
    "        self.patience = patience        # 몇번 참을지\n",
    "        self.min_delta = min_delta      # 최소한의 차이점\n",
    "        self.best_loss = float('inf')   # 최적의 손실값. float('inf')-> 양의 무한대\n",
    "        self.counter = 0                \n",
    "\n",
    "    def __call__(self, val_loss):\n",
    "        if val_loss < self.best_loss - self.min_delta:\n",
    "            self.best_loss = val_loss\n",
    "            self.counter = 0\n",
    "        else:\n",
    "            self.counter += 1       # 카운터가 계속 올라간다 == 손실값이 변화 X\n",
    "        \n",
    "        return self.counter >= self.patience        # True or False 반환 받아 학습 중단"
   ]
  },
  {
   "cell_type": "code",
   "execution_count": 19,
   "id": "55fc8ed2",
   "metadata": {},
   "outputs": [
    {
     "name": "stdout",
     "output_type": "stream",
     "text": [
      "Early Stopping 적용 안함\n",
      "Epoch 1 | Val Loss: 0.3072, Accuracy: 0.9058\n",
      "Epoch 2 | Val Loss: 0.2120, Accuracy: 0.9378\n",
      "Epoch 3 | Val Loss: 0.2596, Accuracy: 0.9217\n",
      "Epoch 4 | Val Loss: 0.2309, Accuracy: 0.9327\n",
      "Epoch 5 | Val Loss: 0.2818, Accuracy: 0.9280\n",
      "Epoch 6 | Val Loss: 0.2320, Accuracy: 0.9347\n",
      "Epoch 7 | Val Loss: 0.3077, Accuracy: 0.9253\n",
      "Epoch 8 | Val Loss: 0.2651, Accuracy: 0.9318\n",
      "Epoch 9 | Val Loss: 0.2067, Accuracy: 0.9462\n",
      "Epoch 10 | Val Loss: 0.2397, Accuracy: 0.9402\n",
      "Epoch 11 | Val Loss: 0.2230, Accuracy: 0.9418\n",
      "Epoch 12 | Val Loss: 0.2592, Accuracy: 0.9302\n",
      "Epoch 13 | Val Loss: 0.2281, Accuracy: 0.9434\n",
      "Epoch 14 | Val Loss: 0.3049, Accuracy: 0.9199\n",
      "Epoch 15 | Val Loss: 0.2743, Accuracy: 0.9317\n",
      "Epoch 16 | Val Loss: 0.2398, Accuracy: 0.9380\n",
      "Epoch 17 | Val Loss: 0.2232, Accuracy: 0.9469\n",
      "Epoch 18 | Val Loss: 0.2744, Accuracy: 0.9313\n",
      "Epoch 19 | Val Loss: 0.2915, Accuracy: 0.9264\n",
      "Epoch 20 | Val Loss: 0.2229, Accuracy: 0.9434\n",
      "Epoch 21 | Val Loss: 0.2283, Accuracy: 0.9458\n",
      "Epoch 22 | Val Loss: 0.2956, Accuracy: 0.9295\n",
      "Epoch 23 | Val Loss: 0.2370, Accuracy: 0.9422\n",
      "Epoch 24 | Val Loss: 0.2332, Accuracy: 0.9424\n",
      "Epoch 25 | Val Loss: 0.2285, Accuracy: 0.9442\n",
      "Epoch 26 | Val Loss: 0.2215, Accuracy: 0.9463\n",
      "Epoch 27 | Val Loss: 0.2756, Accuracy: 0.9370\n",
      "Epoch 28 | Val Loss: 0.2575, Accuracy: 0.9412\n",
      "Epoch 29 | Val Loss: 0.2191, Accuracy: 0.9478\n",
      "Epoch 30 | Val Loss: 0.2240, Accuracy: 0.9446\n",
      "Epoch 31 | Val Loss: 0.2650, Accuracy: 0.9356\n",
      "Epoch 32 | Val Loss: 0.2433, Accuracy: 0.9474\n",
      "Epoch 33 | Val Loss: 0.2505, Accuracy: 0.9448\n",
      "Epoch 34 | Val Loss: 0.2515, Accuracy: 0.9456\n",
      "Epoch 35 | Val Loss: 0.2510, Accuracy: 0.9437\n",
      "Epoch 36 | Val Loss: 0.2144, Accuracy: 0.9500\n",
      "Epoch 37 | Val Loss: 0.2374, Accuracy: 0.9477\n",
      "Epoch 38 | Val Loss: 0.2550, Accuracy: 0.9447\n",
      "Epoch 39 | Val Loss: 0.3712, Accuracy: 0.9119\n",
      "Epoch 40 | Val Loss: 0.2411, Accuracy: 0.9483\n",
      "Epoch 41 | Val Loss: 0.2145, Accuracy: 0.9508\n",
      "Epoch 42 | Val Loss: 0.2479, Accuracy: 0.9484\n",
      "Epoch 43 | Val Loss: 0.2547, Accuracy: 0.9443\n",
      "Epoch 44 | Val Loss: 0.2392, Accuracy: 0.9487\n",
      "Epoch 45 | Val Loss: 0.2269, Accuracy: 0.9509\n",
      "Epoch 46 | Val Loss: 0.2581, Accuracy: 0.9463\n",
      "Epoch 47 | Val Loss: 0.2281, Accuracy: 0.9497\n",
      "Epoch 48 | Val Loss: 0.2745, Accuracy: 0.9421\n",
      "Epoch 49 | Val Loss: 0.2788, Accuracy: 0.9434\n",
      "Epoch 50 | Val Loss: 0.2488, Accuracy: 0.9454\n",
      "\n",
      "Early Stopping 적용\n",
      "Epoch 1 | Val Loss: 0.2672, Accuracy: 0.9205\n",
      "Epoch 2 | Val Loss: 0.2308, Accuracy: 0.9342\n",
      "Epoch 3 | Val Loss: 0.2231, Accuracy: 0.9393\n",
      "Epoch 4 | Val Loss: 0.2460, Accuracy: 0.9381\n",
      "Epoch 5 | Val Loss: 0.2646, Accuracy: 0.9288\n",
      "Epoch 6 | Val Loss: 0.2072, Accuracy: 0.9407\n",
      "Epoch 7 | Val Loss: 0.2570, Accuracy: 0.9361\n",
      "Epoch 8 | Val Loss: 0.2316, Accuracy: 0.9397\n",
      "Epoch 9 | Val Loss: 0.2278, Accuracy: 0.9403\n",
      "Epoch 10 | Val Loss: 0.2385, Accuracy: 0.9409\n",
      "Epoch 11 | Val Loss: 0.2312, Accuracy: 0.9387\n",
      "조기종료 epoch 11\n"
     ]
    }
   ],
   "source": [
    "print(\"Early Stopping 적용 안함\")\n",
    "model_no_es = RealSimpleNN()\n",
    "optim_no_es = optim.Adam(model_no_es.parameters(), lr=0.01)\n",
    "train_losses, val_losses = train_es(model_no_es, train_loader, val_loader, optim_no_es)\n",
    "\n",
    "print()\n",
    "print(\"Early Stopping 적용\")\n",
    "model_es = RealSimpleNN()\n",
    "optim_es = optim.Adam(model_es.parameters(), lr=0.01)\n",
    "early_stopping = EarlyStopping(patience=5)\n",
    "train_es_losses, val_es_losses = train_es(model_es, train_loader, val_loader, optim_es, early_stopping=early_stopping)"
   ]
  },
  {
   "cell_type": "code",
   "execution_count": 20,
   "id": "0266d271",
   "metadata": {},
   "outputs": [
    {
     "data": {
      "image/png": "[encoded data removed]",
      "text/plain": [
       "<Figure size 1000x400 with 1 Axes>"
      ]
     },
     "metadata": {},
     "output_type": "display_data"
    }
   ],
   "source": [
    "# 시각화\n",
    "import matplotlib.pyplot as plt\n",
    "\n",
    "plt.figure(figsize=(10, 4))\n",
    "plt.plot(train_losses, label=\"Train Loss (All epoch)\", linestyle='dashed')\n",
    "plt.plot(val_losses, label=\"Valid Loss (All epoch)\")\n",
    "plt.plot(train_es_losses, label=\"Train Loss (Early Stopping)\", linestyle=\"dashed\")\n",
    "plt.plot(val_es_losses, label=\"Valid Loss (Early Stopping)\")\n",
    "\n",
    "plt.xlabel(\"Epoch\")\n",
    "plt.ylabel(\"Loss\")\n",
    "plt.legend()\n",
    "plt.show()"
   ]
  },
  {
   "cell_type": "markdown",
   "id": "b53d97bb",
   "metadata": {},
   "source": [
    "### L2 적용"
   ]
  },
  {
   "cell_type": "code",
   "execution_count": 25,
   "id": "20eb960e",
   "metadata": {},
   "outputs": [],
   "source": [
    "def train_reg(model, train_loader, val_loader, optimizer, epochs=10):\n",
    "    criterion = nn.CrossEntropyLoss()\n",
    "    train_losses = []\n",
    "    val_losses = []\n",
    "    weight_norms = []       # 가중치 감쇄 기울기 추적\n",
    "\n",
    "    for epoch in range(epochs):\n",
    "        model.train()\n",
    "        train_loss = 0\n",
    "        for images, labels in train_loader:\n",
    "            images = images.view(images.size(0), -1)\n",
    "            optimizer.zero_grad()\n",
    "            outputs = model(images)\n",
    "            loss = criterion(outputs, labels)\n",
    "            loss.backward()\n",
    "            optimizer.step()\n",
    "            train_loss += loss.item()\n",
    "        train_loss /= len(train_loader)\n",
    "        train_losses.append(train_loss)\n",
    "        # --> train 절차\n",
    "\n",
    "        # 검증 모드\n",
    "        model.eval()\n",
    "        val_loss = 0\n",
    "        correct = 0\n",
    "        with torch.no_grad():       # 기울기 계산 하지 않음\n",
    "            for images, labels in val_loader:\n",
    "                images = images.view(images.size(0), -1)\n",
    "                outputs = model(images)\n",
    "                loss = criterion(outputs, labels)\n",
    "                val_loss += loss.item()\n",
    "                preds = outputs.argmax(dim=1)\n",
    "                correct += (preds == labels).sum().item()\n",
    "        val_loss /= len(val_loader)\n",
    "        val_losses.append(val_loss)\n",
    "        accuracy = correct / len(val_data)\n",
    "\n",
    "        print(f'Epoch {epoch+1} | Val Loss: {val_loss:.4f}, Accuracy: {accuracy:.4f}')\n",
    "\n",
    "        weight_norm = sum(torch.norm(p).item() for p in model.parameters())        # norm: 가지고 있는 파라미터의 크기\n",
    "        weight_norms.append(weight_norm)\n",
    "\n",
    "    return train_losses, val_losses, weight_norms"
   ]
  },
  {
   "cell_type": "code",
   "execution_count": 26,
   "id": "b9c1c9e5",
   "metadata": {},
   "outputs": [
    {
     "name": "stdout",
     "output_type": "stream",
     "text": [
      "L2 정규화 적용 안함\n",
      "Epoch 1 | Val Loss: 2.3000, Accuracy: 0.1092\n",
      "Epoch 2 | Val Loss: 2.3000, Accuracy: 0.1092\n",
      "Epoch 3 | Val Loss: 2.3000, Accuracy: 0.1092\n",
      "Epoch 4 | Val Loss: 2.3000, Accuracy: 0.1092\n",
      "Epoch 5 | Val Loss: 2.3000, Accuracy: 0.1092\n",
      "Epoch 6 | Val Loss: 2.3000, Accuracy: 0.1092\n",
      "Epoch 7 | Val Loss: 2.3000, Accuracy: 0.1092\n",
      "Epoch 8 | Val Loss: 2.3000, Accuracy: 0.1092\n",
      "Epoch 9 | Val Loss: 2.3000, Accuracy: 0.1092\n",
      "Epoch 10 | Val Loss: 2.3000, Accuracy: 0.1092\n",
      "\n",
      "L2 정규화 적용\n",
      "Epoch 1 | Val Loss: 0.3039, Accuracy: 0.9123\n",
      "Epoch 2 | Val Loss: 0.2518, Accuracy: 0.9287\n",
      "Epoch 3 | Val Loss: 0.2177, Accuracy: 0.9399\n",
      "Epoch 4 | Val Loss: 0.2101, Accuracy: 0.9422\n",
      "Epoch 5 | Val Loss: 0.2371, Accuracy: 0.9364\n",
      "Epoch 6 | Val Loss: 0.2020, Accuracy: 0.9443\n",
      "Epoch 7 | Val Loss: 0.2015, Accuracy: 0.9416\n",
      "Epoch 8 | Val Loss: 0.2048, Accuracy: 0.9437\n",
      "Epoch 9 | Val Loss: 0.2028, Accuracy: 0.9405\n",
      "Epoch 10 | Val Loss: 0.1926, Accuracy: 0.9466\n"
     ]
    }
   ],
   "source": [
    "print(\"L2 정규화 적용 안함\")\n",
    "model_no_reg = RealSimpleNN()\n",
    "optim_no_reg = optim.SGD(model_no_es.parameters(), lr=0.01, weight_decay=0.0, momentum=0.9)\n",
    "train_losses, val_losses, weight_norms = train_reg(model_no_reg, train_loader, val_loader, optim_no_reg)\n",
    "\n",
    "print()\n",
    "print(\"L2 정규화 적용\")\n",
    "model_reg = RealSimpleNN()\n",
    "optim_reg = optim.SGD(model_reg.parameters(), lr=0.01, weight_decay=0.01, momentum=0.9)\n",
    "train_reg_losses, val_reg_losses, weight_norms_reg = train_reg(model_reg, train_loader, val_loader, optim_reg)"
   ]
  },
  {
   "cell_type": "code",
   "execution_count": 28,
   "id": "91a5742b",
   "metadata": {},
   "outputs": [
    {
     "data": {
      "image/png": "[encoded data removed]",
      "text/plain": [
       "<Figure size 1200x500 with 2 Axes>"
      ]
     },
     "metadata": {},
     "output_type": "display_data"
    }
   ],
   "source": [
    "plt.figure(figsize=(12, 5))\n",
    "\n",
    "plt.subplot(1, 2, 1)\n",
    "plt.plot(train_losses, label='Train Loss (No Reg)', linestyle='dashed')\n",
    "plt.plot(val_losses, label='Valid Loss (No Reg)')\n",
    "plt.plot(train_reg_losses, label='Train Loss (L2 reg)', linestyle='dashed')\n",
    "plt.plot(val_reg_losses, label='Valid Loss (L2 reg)')\n",
    "plt.xlabel('Epoch')\n",
    "plt.ylabel('Loss')\n",
    "plt.legend()\n",
    "\n",
    "plt.subplot(1, 2, 2)\n",
    "plt.plot(weight_norms, label=\"Weight Norm (No Reg)\")\n",
    "plt.plot(weight_norms_reg, label=\"Weight Norm (L2 reg)\")\n",
    "plt.xlabel(\"Epoch\")\n",
    "plt.ylabel(\"Weight Norm\")\n",
    "plt.legend()\n",
    "\n",
    "plt.show()"
   ]
  }
 ],
 "metadata": {
  "kernelspec": {
   "display_name": "torch_env",
   "language": "python",
   "name": "python3"
  },
  "language_info": {
   "codemirror_mode": {
    "name": "ipython",
    "version": 3
   },
   "file_extension": ".py",
   "mimetype": "text/x-python",
   "name": "python",
   "nbconvert_exporter": "python",
   "pygments_lexer": "ipython3",
   "version": "3.12.11"
  }
 },
 "nbformat": 4,
 "nbformat_minor": 5
}
